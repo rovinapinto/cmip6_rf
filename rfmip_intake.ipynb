{
 "cells": [
  {
   "cell_type": "code",
   "execution_count": 1,
   "metadata": {
    "ExecuteTime": {
     "end_time": "2021-11-02T11:56:39.915416Z",
     "start_time": "2021-11-02T11:56:31.477510Z"
    }
   },
   "outputs": [],
   "source": [
    "import intake"
   ]
  },
  {
   "cell_type": "code",
   "execution_count": 2,
   "metadata": {
    "ExecuteTime": {
     "end_time": "2021-11-02T11:57:09.922340Z",
     "start_time": "2021-11-02T11:56:39.923968Z"
    }
   },
   "outputs": [
    {
     "data": {
      "text/html": [
       "<div>\n",
       "<style scoped>\n",
       "    .dataframe tbody tr th:only-of-type {\n",
       "        vertical-align: middle;\n",
       "    }\n",
       "\n",
       "    .dataframe tbody tr th {\n",
       "        vertical-align: top;\n",
       "    }\n",
       "\n",
       "    .dataframe thead th {\n",
       "        text-align: right;\n",
       "    }\n",
       "</style>\n",
       "<table border=\"1\" class=\"dataframe\">\n",
       "  <thead>\n",
       "    <tr style=\"text-align: right;\">\n",
       "      <th></th>\n",
       "      <th>activity_id</th>\n",
       "      <th>institution_id</th>\n",
       "      <th>source_id</th>\n",
       "      <th>experiment_id</th>\n",
       "      <th>member_id</th>\n",
       "      <th>table_id</th>\n",
       "      <th>variable_id</th>\n",
       "      <th>grid_label</th>\n",
       "      <th>dcpp_init_year</th>\n",
       "      <th>version</th>\n",
       "      <th>time_range</th>\n",
       "      <th>path</th>\n",
       "      <th>opendap_url</th>\n",
       "    </tr>\n",
       "  </thead>\n",
       "  <tbody>\n",
       "    <tr>\n",
       "      <th>0</th>\n",
       "      <td>AerChemMIP</td>\n",
       "      <td>BCC</td>\n",
       "      <td>BCC-ESM1</td>\n",
       "      <td>hist-piAer</td>\n",
       "      <td>r1i1p1f1</td>\n",
       "      <td>AERmon</td>\n",
       "      <td>c2h6</td>\n",
       "      <td>gn</td>\n",
       "      <td>NaN</td>\n",
       "      <td>v20200511</td>\n",
       "      <td>185001-201412</td>\n",
       "      <td>/mnt/lustre02/work/ik1017/CMIP6/data/CMIP6/Aer...</td>\n",
       "      <td>http://esgf3.dkrz.de/thredds/dodsC/cmip6/AerCh...</td>\n",
       "    </tr>\n",
       "    <tr>\n",
       "      <th>1</th>\n",
       "      <td>AerChemMIP</td>\n",
       "      <td>BCC</td>\n",
       "      <td>BCC-ESM1</td>\n",
       "      <td>hist-piAer</td>\n",
       "      <td>r1i1p1f1</td>\n",
       "      <td>AERmon</td>\n",
       "      <td>c3h6</td>\n",
       "      <td>gn</td>\n",
       "      <td>NaN</td>\n",
       "      <td>v20200511</td>\n",
       "      <td>185001-201412</td>\n",
       "      <td>/mnt/lustre02/work/ik1017/CMIP6/data/CMIP6/Aer...</td>\n",
       "      <td>http://esgf3.dkrz.de/thredds/dodsC/cmip6/AerCh...</td>\n",
       "    </tr>\n",
       "    <tr>\n",
       "      <th>2</th>\n",
       "      <td>AerChemMIP</td>\n",
       "      <td>BCC</td>\n",
       "      <td>BCC-ESM1</td>\n",
       "      <td>hist-piAer</td>\n",
       "      <td>r1i1p1f1</td>\n",
       "      <td>AERmon</td>\n",
       "      <td>c3h8</td>\n",
       "      <td>gn</td>\n",
       "      <td>NaN</td>\n",
       "      <td>v20200511</td>\n",
       "      <td>185001-201412</td>\n",
       "      <td>/mnt/lustre02/work/ik1017/CMIP6/data/CMIP6/Aer...</td>\n",
       "      <td>http://esgf3.dkrz.de/thredds/dodsC/cmip6/AerCh...</td>\n",
       "    </tr>\n",
       "    <tr>\n",
       "      <th>3</th>\n",
       "      <td>AerChemMIP</td>\n",
       "      <td>BCC</td>\n",
       "      <td>BCC-ESM1</td>\n",
       "      <td>hist-piAer</td>\n",
       "      <td>r1i1p1f1</td>\n",
       "      <td>AERmon</td>\n",
       "      <td>cdnc</td>\n",
       "      <td>gn</td>\n",
       "      <td>NaN</td>\n",
       "      <td>v20200522</td>\n",
       "      <td>185001-201412</td>\n",
       "      <td>/mnt/lustre02/work/ik1017/CMIP6/data/CMIP6/Aer...</td>\n",
       "      <td>http://esgf3.dkrz.de/thredds/dodsC/cmip6/AerCh...</td>\n",
       "    </tr>\n",
       "    <tr>\n",
       "      <th>4</th>\n",
       "      <td>AerChemMIP</td>\n",
       "      <td>BCC</td>\n",
       "      <td>BCC-ESM1</td>\n",
       "      <td>hist-piAer</td>\n",
       "      <td>r1i1p1f1</td>\n",
       "      <td>AERmon</td>\n",
       "      <td>ch3coch3</td>\n",
       "      <td>gn</td>\n",
       "      <td>NaN</td>\n",
       "      <td>v20200511</td>\n",
       "      <td>185001-201412</td>\n",
       "      <td>/mnt/lustre02/work/ik1017/CMIP6/data/CMIP6/Aer...</td>\n",
       "      <td>http://esgf3.dkrz.de/thredds/dodsC/cmip6/AerCh...</td>\n",
       "    </tr>\n",
       "  </tbody>\n",
       "</table>\n",
       "</div>"
      ],
      "text/plain": [
       "  activity_id institution_id source_id experiment_id member_id table_id  \\\n",
       "0  AerChemMIP            BCC  BCC-ESM1    hist-piAer  r1i1p1f1   AERmon   \n",
       "1  AerChemMIP            BCC  BCC-ESM1    hist-piAer  r1i1p1f1   AERmon   \n",
       "2  AerChemMIP            BCC  BCC-ESM1    hist-piAer  r1i1p1f1   AERmon   \n",
       "3  AerChemMIP            BCC  BCC-ESM1    hist-piAer  r1i1p1f1   AERmon   \n",
       "4  AerChemMIP            BCC  BCC-ESM1    hist-piAer  r1i1p1f1   AERmon   \n",
       "\n",
       "  variable_id grid_label  dcpp_init_year    version     time_range  \\\n",
       "0        c2h6         gn             NaN  v20200511  185001-201412   \n",
       "1        c3h6         gn             NaN  v20200511  185001-201412   \n",
       "2        c3h8         gn             NaN  v20200511  185001-201412   \n",
       "3        cdnc         gn             NaN  v20200522  185001-201412   \n",
       "4    ch3coch3         gn             NaN  v20200511  185001-201412   \n",
       "\n",
       "                                                path  \\\n",
       "0  /mnt/lustre02/work/ik1017/CMIP6/data/CMIP6/Aer...   \n",
       "1  /mnt/lustre02/work/ik1017/CMIP6/data/CMIP6/Aer...   \n",
       "2  /mnt/lustre02/work/ik1017/CMIP6/data/CMIP6/Aer...   \n",
       "3  /mnt/lustre02/work/ik1017/CMIP6/data/CMIP6/Aer...   \n",
       "4  /mnt/lustre02/work/ik1017/CMIP6/data/CMIP6/Aer...   \n",
       "\n",
       "                                         opendap_url  \n",
       "0  http://esgf3.dkrz.de/thredds/dodsC/cmip6/AerCh...  \n",
       "1  http://esgf3.dkrz.de/thredds/dodsC/cmip6/AerCh...  \n",
       "2  http://esgf3.dkrz.de/thredds/dodsC/cmip6/AerCh...  \n",
       "3  http://esgf3.dkrz.de/thredds/dodsC/cmip6/AerCh...  \n",
       "4  http://esgf3.dkrz.de/thredds/dodsC/cmip6/AerCh...  "
      ]
     },
     "execution_count": 2,
     "metadata": {},
     "output_type": "execute_result"
    }
   ],
   "source": [
    "poolpath = '/work/ik1017/Catalogs/mistral-cmip6.json'\n",
    "col = intake.open_esm_datastore(poolpath)\n",
    "col.df.head()"
   ]
  },
  {
   "cell_type": "code",
   "execution_count": 3,
   "metadata": {
    "ExecuteTime": {
     "end_time": "2021-11-02T12:08:39.735273Z",
     "start_time": "2021-11-02T12:08:03.256106Z"
    }
   },
   "outputs": [],
   "source": [
    "models = col.search(activity_id = 'RFMIP', \n",
    "                    source_id=['EC-Earth3', 'IPSL-CM6A-LR','MPI-ESM1-2-LR','NorESM2-LM'],\n",
    "                    experiment_id=['piClim-spAer-aer','piClim-spAer-anthro','piClim-control', 'piClim-aer',\n",
    "                                   'piClim-anthro'],\n",
    "                    variable_id=['clt','rlds','rldscs','rlus','rlut','rlutcs','rsds','rsdscs','rsdt',\n",
    "                                 'rsus','rsuscs','rsut','rsutcs'], \n",
    "                    table_id=\"Amon\",\n",
    "                    member_id = ['r1i1p1f1', 'r2i1p1f1', 'r3i1p1f1', 'r4i1p1f1', 'r5i1p1f1']\n",
    "                   )"
   ]
  },
  {
   "cell_type": "code",
   "execution_count": 4,
   "metadata": {
    "ExecuteTime": {
     "end_time": "2021-11-02T12:08:56.974643Z",
     "start_time": "2021-11-02T12:08:56.970468Z"
    }
   },
   "outputs": [
    {
     "name": "stdout",
     "output_type": "stream",
     "text": [
      "[4, ['EC-Earth3', 'IPSL-CM6A-LR', 'MPI-ESM1-2-LR', 'NorESM2-LM']]\n"
     ]
    }
   ],
   "source": [
    "# identify the unique source ids from the search\n",
    "unique_sources = models.unique(\"source_id\")\n",
    "print(list(unique_sources[\"source_id\"].values()))"
   ]
  },
  {
   "cell_type": "code",
   "execution_count": 5,
   "metadata": {
    "ExecuteTime": {
     "end_time": "2021-11-02T12:09:14.257693Z",
     "start_time": "2021-11-02T12:09:14.246251Z"
    }
   },
   "outputs": [
    {
     "data": {
      "text/plain": [
       "source_id\n",
       "EC-Earth3              [piClim-aer, piClim-anthro, piClim-control]\n",
       "IPSL-CM6A-LR     [piClim-aer, piClim-anthro, piClim-control, pi...\n",
       "MPI-ESM1-2-LR    [piClim-control, piClim-spAer-aer, piClim-spAe...\n",
       "NorESM2-LM       [piClim-aer, piClim-anthro, piClim-control, pi...\n",
       "Name: experiment_id, dtype: object"
      ]
     },
     "execution_count": 5,
     "metadata": {},
     "output_type": "execute_result"
    }
   ],
   "source": [
    "models.df.groupby(\"source_id\")[\"experiment_id\"].unique()"
   ]
  },
  {
   "cell_type": "code",
   "execution_count": 6,
   "metadata": {
    "ExecuteTime": {
     "end_time": "2021-11-02T12:09:31.482515Z",
     "start_time": "2021-11-02T12:09:31.472591Z"
    }
   },
   "outputs": [
    {
     "data": {
      "text/plain": [
       "source_id\n",
       "EC-Earth3        [clt, rlds, rldscs, rlus, rlut, rlutcs, rsds, ...\n",
       "IPSL-CM6A-LR     [clt, rlds, rldscs, rlus, rlut, rlutcs, rsds, ...\n",
       "MPI-ESM1-2-LR    [clt, rlds, rldscs, rlus, rlut, rlutcs, rsds, ...\n",
       "NorESM2-LM       [clt, rlds, rlus, rlut, rlutcs, rsds, rsdscs, ...\n",
       "Name: variable_id, dtype: object"
      ]
     },
     "execution_count": 6,
     "metadata": {},
     "output_type": "execute_result"
    }
   ],
   "source": [
    "models.df.groupby(\"source_id\")[\"variable_id\"].unique()"
   ]
  },
  {
   "cell_type": "code",
   "execution_count": 7,
   "metadata": {
    "ExecuteTime": {
     "end_time": "2021-11-02T12:09:48.703090Z",
     "start_time": "2021-11-02T12:09:48.696756Z"
    }
   },
   "outputs": [
    {
     "data": {
      "text/plain": [
       "source_id\n",
       "EC-Earth3        13\n",
       "IPSL-CM6A-LR     13\n",
       "MPI-ESM1-2-LR    13\n",
       "NorESM2-LM       12\n",
       "Name: variable_id, dtype: int64"
      ]
     },
     "execution_count": 7,
     "metadata": {},
     "output_type": "execute_result"
    }
   ],
   "source": [
    "models.df.groupby(\"source_id\")[\"variable_id\"].nunique()"
   ]
  },
  {
   "cell_type": "code",
   "execution_count": 8,
   "metadata": {
    "ExecuteTime": {
     "end_time": "2021-11-02T12:10:06.259123Z",
     "start_time": "2021-11-02T12:10:05.742342Z"
    }
   },
   "outputs": [
    {
     "name": "stdout",
     "output_type": "stream",
     "text": [
      "Writing csv catalog to: rfmip_models.csv.gz\n",
      "Writing ESM collection json file to: rfmip_models.json\n"
     ]
    }
   ],
   "source": [
    "models.serialize(name=\"rfmip_models\") "
   ]
  },
  {
   "cell_type": "code",
   "execution_count": null,
   "metadata": {},
   "outputs": [],
   "source": []
  }
 ],
 "metadata": {
  "kernelspec": {
   "display_name": "Python 3 bleeding edge (using the module anaconda3/bleeding_edge)",
   "language": "python",
   "name": "anaconda3_bleeding"
  },
  "language_info": {
   "codemirror_mode": {
    "name": "ipython",
    "version": 3
   },
   "file_extension": ".py",
   "mimetype": "text/x-python",
   "name": "python",
   "nbconvert_exporter": "python",
   "pygments_lexer": "ipython3",
   "version": "3.6.10"
  },
  "toc": {
   "base_numbering": 1,
   "nav_menu": {},
   "number_sections": true,
   "sideBar": true,
   "skip_h1_title": false,
   "title_cell": "Table of Contents",
   "title_sidebar": "Contents",
   "toc_cell": false,
   "toc_position": {},
   "toc_section_display": true,
   "toc_window_display": false
  },
  "varInspector": {
   "cols": {
    "lenName": 16,
    "lenType": 16,
    "lenVar": 40
   },
   "kernels_config": {
    "python": {
     "delete_cmd_postfix": "",
     "delete_cmd_prefix": "del ",
     "library": "var_list.py",
     "varRefreshCmd": "print(var_dic_list())"
    },
    "r": {
     "delete_cmd_postfix": ") ",
     "delete_cmd_prefix": "rm(",
     "library": "var_list.r",
     "varRefreshCmd": "cat(var_dic_list()) "
    }
   },
   "types_to_exclude": [
    "module",
    "function",
    "builtin_function_or_method",
    "instance",
    "_Feature"
   ],
   "window_display": false
  }
 },
 "nbformat": 4,
 "nbformat_minor": 4
}
